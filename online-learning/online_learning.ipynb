{
 "cells": [
  {
   "cell_type": "code",
   "execution_count": 1,
   "id": "5c1c1618",
   "metadata": {},
   "outputs": [],
   "source": [
    "import pandas as pd\n",
    "from sklearn.linear_model import SGDClassifier\n",
    "from sklearn.metrics import accuracy_score\n",
    "from sklearn.preprocessing import StandardScaler\n",
    "from sklearn.model_selection import train_test_split\n"
   ]
  },
  {
   "cell_type": "code",
   "execution_count": 3,
   "id": "17d1eb83",
   "metadata": {},
   "outputs": [
    {
     "name": "stderr",
     "output_type": "stream",
     "text": [
      "/var/folders/gn/dcp2lfmx4sjbl4j7q3xtcfj80000gn/T/ipykernel_94269/1079672311.py:4: FutureWarning: A value is trying to be set on a copy of a DataFrame or Series through chained assignment using an inplace method.\n",
      "The behavior will change in pandas 3.0. This inplace method will never work because the intermediate object on which we are setting values always behaves as a copy.\n",
      "\n",
      "For example, when doing 'df[col].method(value, inplace=True)', try using 'df.method({col: value}, inplace=True)' or df[col] = df[col].method(value) instead, to perform the operation inplace on the original object.\n",
      "\n",
      "\n",
      "  df['Age'].fillna(df['Age'].median(), inplace=True)\n",
      "/var/folders/gn/dcp2lfmx4sjbl4j7q3xtcfj80000gn/T/ipykernel_94269/1079672311.py:5: FutureWarning: A value is trying to be set on a copy of a DataFrame or Series through chained assignment using an inplace method.\n",
      "The behavior will change in pandas 3.0. This inplace method will never work because the intermediate object on which we are setting values always behaves as a copy.\n",
      "\n",
      "For example, when doing 'df[col].method(value, inplace=True)', try using 'df.method({col: value}, inplace=True)' or df[col] = df[col].method(value) instead, to perform the operation inplace on the original object.\n",
      "\n",
      "\n",
      "  df['Embarked'].fillna(df['Embarked'].mode()[0], inplace=True)\n"
     ]
    }
   ],
   "source": [
    "df = pd.read_csv(\"../titanic.csv\")\n",
    "\n",
    "df = df[['Survived', 'Pclass', 'Age', 'SibSp', 'Parch', 'Fare', 'Sex', 'Embarked']]\n",
    "df['Age'].fillna(df['Age'].median(), inplace=True)\n",
    "df['Embarked'].fillna(df['Embarked'].mode()[0], inplace=True)\n",
    "\n",
    "# Encode categoricals\n",
    "df = pd.get_dummies(df, columns=['Sex', 'Embarked'], drop_first=True)\n"
   ]
  },
  {
   "cell_type": "code",
   "execution_count": 4,
   "id": "990f9859",
   "metadata": {},
   "outputs": [],
   "source": [
    "X = df.drop(\"Survived\", axis=1)\n",
    "y = df[\"Survived\"]\n",
    "\n",
    "X_train, X_test, y_train, y_test = train_test_split(\n",
    "    X, y, test_size=0.2, random_state=42\n",
    ")\n"
   ]
  },
  {
   "cell_type": "code",
   "execution_count": 8,
   "id": "7f96e223",
   "metadata": {},
   "outputs": [
    {
     "name": "stdout",
     "output_type": "stream",
     "text": [
      "Processing batch 1...\n",
      "Processing batch 2...\n",
      "Processing batch 3...\n",
      "Processing batch 4...\n",
      "Processing batch 5...\n",
      "Processing batch 6...\n",
      "Processing batch 7...\n",
      "Processing batch 8...\n",
      "Model trained incrementally.\n"
     ]
    }
   ],
   "source": [
    "clf = SGDClassifier(loss='log_loss', random_state=42)\n",
    "\n",
    "# initialize scaler (optional for SGD)\n",
    "scaler = StandardScaler()\n",
    "\n",
    "batch_size = 100\n",
    "classes = [0, 1]  # possible labels\n",
    "\n",
    "# scale entire training set once\n",
    "X_train_scaled = scaler.fit_transform(X_train)\n",
    "\n",
    "for i in range(0, len(X_train), batch_size):\n",
    "    print(f\"Processing batch {i // batch_size + 1}...\")\n",
    "    X_batch = X_train_scaled[i:i+batch_size]\n",
    "    y_batch = y_train.iloc[i:i+batch_size]\n",
    "\n",
    "    clf.partial_fit(X_batch, y_batch, classes=classes)\n",
    "\n",
    "print(\"Model trained incrementally.\")\n"
   ]
  },
  {
   "cell_type": "code",
   "execution_count": 6,
   "id": "03d95eab",
   "metadata": {},
   "outputs": [
    {
     "name": "stdout",
     "output_type": "stream",
     "text": [
      "Accuracy: 0.8156424581005587\n"
     ]
    }
   ],
   "source": [
    "X_test_scaled = scaler.transform(X_test)\n",
    "y_pred = clf.predict(X_test_scaled)\n",
    "\n",
    "print(\"Accuracy:\", accuracy_score(y_test, y_pred))\n"
   ]
  }
 ],
 "metadata": {
  "kernelspec": {
   "display_name": ".venv",
   "language": "python",
   "name": "python3"
  },
  "language_info": {
   "codemirror_mode": {
    "name": "ipython",
    "version": 3
   },
   "file_extension": ".py",
   "mimetype": "text/x-python",
   "name": "python",
   "nbconvert_exporter": "python",
   "pygments_lexer": "ipython3",
   "version": "3.13.5"
  }
 },
 "nbformat": 4,
 "nbformat_minor": 5
}
